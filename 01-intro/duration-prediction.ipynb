{
 "cells": [
  {
   "cell_type": "code",
   "execution_count": 1,
   "id": "b2bd82d7",
   "metadata": {
    "ExecuteTime": {
     "end_time": "2024-05-19T18:07:25.871225479Z",
     "start_time": "2024-05-19T18:07:25.573309697Z"
    }
   },
   "outputs": [
    {
     "name": "stdout",
     "output_type": "stream",
     "text": [
      "Python 3.11.7\r\n"
     ]
    }
   ],
   "source": [
    "!python -V"
   ]
  },
  {
   "cell_type": "code",
   "execution_count": 2,
   "id": "41062d8a",
   "metadata": {
    "ExecuteTime": {
     "end_time": "2024-05-19T18:07:26.618672687Z",
     "start_time": "2024-05-19T18:07:26.594425293Z"
    }
   },
   "outputs": [],
   "source": [
    "import pandas as pd"
   ]
  },
  {
   "cell_type": "code",
   "execution_count": 3,
   "id": "c984c564",
   "metadata": {
    "ExecuteTime": {
     "end_time": "2024-05-19T18:07:27.097803814Z",
     "start_time": "2024-05-19T18:07:27.094131775Z"
    }
   },
   "outputs": [],
   "source": [
    "import pickle"
   ]
  },
  {
   "cell_type": "code",
   "execution_count": 4,
   "id": "4add538c",
   "metadata": {
    "ExecuteTime": {
     "end_time": "2024-05-19T18:07:27.464807422Z",
     "start_time": "2024-05-19T18:07:27.461504467Z"
    }
   },
   "outputs": [],
   "source": [
    "import seaborn as sns\n",
    "import matplotlib.pyplot as plt"
   ]
  },
  {
   "cell_type": "code",
   "execution_count": 5,
   "id": "8b135c2b",
   "metadata": {
    "ExecuteTime": {
     "end_time": "2024-05-19T18:07:28.092823717Z",
     "start_time": "2024-05-19T18:07:27.812197122Z"
    }
   },
   "outputs": [],
   "source": [
    "from sklearn.feature_extraction import DictVectorizer\n",
    "from sklearn.linear_model import LinearRegression\n",
    "from sklearn.linear_model import Lasso\n",
    "from sklearn.linear_model import Ridge\n",
    "\n",
    "from sklearn.metrics import mean_squared_error"
   ]
  },
  {
   "cell_type": "code",
   "execution_count": 6,
   "id": "8e013caf",
   "metadata": {
    "ExecuteTime": {
     "end_time": "2024-05-19T18:07:28.544308096Z",
     "start_time": "2024-05-19T18:07:28.257746058Z"
    }
   },
   "outputs": [],
   "source": [
    "df = pd.read_parquet('./data/green_tripdata_2021-01.parquet')\n",
    "\n",
    "df['duration'] = df.lpep_dropoff_datetime - df.lpep_pickup_datetime\n",
    "df.duration = df.duration.apply(lambda td: td.total_seconds() / 60)\n",
    "\n",
    "df = df[(df.duration >= 1) & (df.duration <= 60)]\n",
    "\n",
    "categorical = ['PULocationID', 'DOLocationID']\n",
    "numerical = ['trip_distance']\n",
    "\n",
    "df[categorical] = df[categorical].astype(str)"
   ]
  },
  {
   "cell_type": "code",
   "outputs": [
    {
     "data": {
      "text/plain": "   VendorID lpep_pickup_datetime lpep_dropoff_datetime store_and_fwd_flag  \\\n0         2  2021-01-01 00:15:56   2021-01-01 00:19:52                  N   \n1         2  2021-01-01 00:25:59   2021-01-01 00:34:44                  N   \n2         2  2021-01-01 00:45:57   2021-01-01 00:51:55                  N   \n3         2  2020-12-31 23:57:51   2021-01-01 00:04:56                  N   \n7         2  2021-01-01 00:26:31   2021-01-01 00:28:50                  N   \n\n   RatecodeID PULocationID DOLocationID  passenger_count  trip_distance  \\\n0         1.0           43          151              1.0           1.01   \n1         1.0          166          239              1.0           2.53   \n2         1.0           41           42              1.0           1.12   \n3         1.0          168           75              1.0           1.99   \n7         1.0           75           75              6.0           0.45   \n\n   fare_amount  ...  mta_tax  tip_amount  tolls_amount  ehail_fee  \\\n0          5.5  ...      0.5        0.00           0.0       None   \n1         10.0  ...      0.5        2.81           0.0       None   \n2          6.0  ...      0.5        1.00           0.0       None   \n3          8.0  ...      0.5        0.00           0.0       None   \n7          3.5  ...      0.5        0.96           0.0       None   \n\n  improvement_surcharge  total_amount  payment_type  trip_type  \\\n0                   0.3          6.80           2.0        1.0   \n1                   0.3         16.86           1.0        1.0   \n2                   0.3          8.30           1.0        1.0   \n3                   0.3          9.30           2.0        1.0   \n7                   0.3          5.76           1.0        1.0   \n\n   congestion_surcharge  duration  \n0                  0.00  3.933333  \n1                  2.75  8.750000  \n2                  0.00  5.966667  \n3                  0.00  7.083333  \n7                  0.00  2.316667  \n\n[5 rows x 21 columns]",
      "text/html": "<div>\n<style scoped>\n    .dataframe tbody tr th:only-of-type {\n        vertical-align: middle;\n    }\n\n    .dataframe tbody tr th {\n        vertical-align: top;\n    }\n\n    .dataframe thead th {\n        text-align: right;\n    }\n</style>\n<table border=\"1\" class=\"dataframe\">\n  <thead>\n    <tr style=\"text-align: right;\">\n      <th></th>\n      <th>VendorID</th>\n      <th>lpep_pickup_datetime</th>\n      <th>lpep_dropoff_datetime</th>\n      <th>store_and_fwd_flag</th>\n      <th>RatecodeID</th>\n      <th>PULocationID</th>\n      <th>DOLocationID</th>\n      <th>passenger_count</th>\n      <th>trip_distance</th>\n      <th>fare_amount</th>\n      <th>...</th>\n      <th>mta_tax</th>\n      <th>tip_amount</th>\n      <th>tolls_amount</th>\n      <th>ehail_fee</th>\n      <th>improvement_surcharge</th>\n      <th>total_amount</th>\n      <th>payment_type</th>\n      <th>trip_type</th>\n      <th>congestion_surcharge</th>\n      <th>duration</th>\n    </tr>\n  </thead>\n  <tbody>\n    <tr>\n      <th>0</th>\n      <td>2</td>\n      <td>2021-01-01 00:15:56</td>\n      <td>2021-01-01 00:19:52</td>\n      <td>N</td>\n      <td>1.0</td>\n      <td>43</td>\n      <td>151</td>\n      <td>1.0</td>\n      <td>1.01</td>\n      <td>5.5</td>\n      <td>...</td>\n      <td>0.5</td>\n      <td>0.00</td>\n      <td>0.0</td>\n      <td>None</td>\n      <td>0.3</td>\n      <td>6.80</td>\n      <td>2.0</td>\n      <td>1.0</td>\n      <td>0.00</td>\n      <td>3.933333</td>\n    </tr>\n    <tr>\n      <th>1</th>\n      <td>2</td>\n      <td>2021-01-01 00:25:59</td>\n      <td>2021-01-01 00:34:44</td>\n      <td>N</td>\n      <td>1.0</td>\n      <td>166</td>\n      <td>239</td>\n      <td>1.0</td>\n      <td>2.53</td>\n      <td>10.0</td>\n      <td>...</td>\n      <td>0.5</td>\n      <td>2.81</td>\n      <td>0.0</td>\n      <td>None</td>\n      <td>0.3</td>\n      <td>16.86</td>\n      <td>1.0</td>\n      <td>1.0</td>\n      <td>2.75</td>\n      <td>8.750000</td>\n    </tr>\n    <tr>\n      <th>2</th>\n      <td>2</td>\n      <td>2021-01-01 00:45:57</td>\n      <td>2021-01-01 00:51:55</td>\n      <td>N</td>\n      <td>1.0</td>\n      <td>41</td>\n      <td>42</td>\n      <td>1.0</td>\n      <td>1.12</td>\n      <td>6.0</td>\n      <td>...</td>\n      <td>0.5</td>\n      <td>1.00</td>\n      <td>0.0</td>\n      <td>None</td>\n      <td>0.3</td>\n      <td>8.30</td>\n      <td>1.0</td>\n      <td>1.0</td>\n      <td>0.00</td>\n      <td>5.966667</td>\n    </tr>\n    <tr>\n      <th>3</th>\n      <td>2</td>\n      <td>2020-12-31 23:57:51</td>\n      <td>2021-01-01 00:04:56</td>\n      <td>N</td>\n      <td>1.0</td>\n      <td>168</td>\n      <td>75</td>\n      <td>1.0</td>\n      <td>1.99</td>\n      <td>8.0</td>\n      <td>...</td>\n      <td>0.5</td>\n      <td>0.00</td>\n      <td>0.0</td>\n      <td>None</td>\n      <td>0.3</td>\n      <td>9.30</td>\n      <td>2.0</td>\n      <td>1.0</td>\n      <td>0.00</td>\n      <td>7.083333</td>\n    </tr>\n    <tr>\n      <th>7</th>\n      <td>2</td>\n      <td>2021-01-01 00:26:31</td>\n      <td>2021-01-01 00:28:50</td>\n      <td>N</td>\n      <td>1.0</td>\n      <td>75</td>\n      <td>75</td>\n      <td>6.0</td>\n      <td>0.45</td>\n      <td>3.5</td>\n      <td>...</td>\n      <td>0.5</td>\n      <td>0.96</td>\n      <td>0.0</td>\n      <td>None</td>\n      <td>0.3</td>\n      <td>5.76</td>\n      <td>1.0</td>\n      <td>1.0</td>\n      <td>0.00</td>\n      <td>2.316667</td>\n    </tr>\n  </tbody>\n</table>\n<p>5 rows × 21 columns</p>\n</div>"
     },
     "execution_count": 7,
     "metadata": {},
     "output_type": "execute_result"
    }
   ],
   "source": [
    "df.head(5)"
   ],
   "metadata": {
    "collapsed": false,
    "ExecuteTime": {
     "end_time": "2024-05-19T18:07:28.931474517Z",
     "start_time": "2024-05-19T18:07:28.902877486Z"
    }
   },
   "id": "3b158070b47c1af0",
   "execution_count": 7
  },
  {
   "cell_type": "code",
   "execution_count": 8,
   "id": "116ff0cc",
   "metadata": {
    "ExecuteTime": {
     "end_time": "2024-05-19T18:07:29.624123277Z",
     "start_time": "2024-05-19T18:07:29.384280729Z"
    }
   },
   "outputs": [
    {
     "data": {
      "text/plain": "9.83879979982633"
     },
     "execution_count": 8,
     "metadata": {},
     "output_type": "execute_result"
    }
   ],
   "source": [
    "train_dicts = df[categorical + numerical].to_dict(orient='records')\n",
    "\n",
    "dv = DictVectorizer()\n",
    "X_train = dv.fit_transform(train_dicts)\n",
    "\n",
    "target = 'duration'\n",
    "y_train = df[target].values\n",
    "\n",
    "lr = LinearRegression()\n",
    "lr.fit(X_train, y_train)\n",
    "\n",
    "y_pred = lr.predict(X_train)\n",
    "\n",
    "mean_squared_error(y_train, y_pred, squared=False)"
   ]
  },
  {
   "cell_type": "code",
   "execution_count": 9,
   "id": "b134c97b",
   "metadata": {
    "ExecuteTime": {
     "end_time": "2024-05-19T18:07:31.111909886Z",
     "start_time": "2024-05-19T18:07:30.407779846Z"
    }
   },
   "outputs": [
    {
     "name": "stderr",
     "output_type": "stream",
     "text": [
      "/tmp/ipykernel_8390/437147669.py:1: UserWarning: \n",
      "\n",
      "`distplot` is a deprecated function and will be removed in seaborn v0.14.0.\n",
      "\n",
      "Please adapt your code to use either `displot` (a figure-level function with\n",
      "similar flexibility) or `histplot` (an axes-level function for histograms).\n",
      "\n",
      "For a guide to updating your code to use the new functions, please see\n",
      "https://gist.github.com/mwaskom/de44147ed2974457ad6372750bbe5751\n",
      "\n",
      "  sns.distplot(y_pred, label='prediction')\n",
      "/home/ivan/anaconda3/lib/python3.11/site-packages/seaborn/_oldcore.py:1119: FutureWarning: use_inf_as_na option is deprecated and will be removed in a future version. Convert inf values to NaN before operating instead.\n",
      "  with pd.option_context('mode.use_inf_as_na', True):\n",
      "/tmp/ipykernel_8390/437147669.py:2: UserWarning: \n",
      "\n",
      "`distplot` is a deprecated function and will be removed in seaborn v0.14.0.\n",
      "\n",
      "Please adapt your code to use either `displot` (a figure-level function with\n",
      "similar flexibility) or `histplot` (an axes-level function for histograms).\n",
      "\n",
      "For a guide to updating your code to use the new functions, please see\n",
      "https://gist.github.com/mwaskom/de44147ed2974457ad6372750bbe5751\n",
      "\n",
      "  sns.distplot(y_train, label='actual')\n",
      "/home/ivan/anaconda3/lib/python3.11/site-packages/seaborn/_oldcore.py:1119: FutureWarning: use_inf_as_na option is deprecated and will be removed in a future version. Convert inf values to NaN before operating instead.\n",
      "  with pd.option_context('mode.use_inf_as_na', True):\n"
     ]
    },
    {
     "data": {
      "text/plain": "<matplotlib.legend.Legend at 0x7bdb24608e50>"
     },
     "execution_count": 9,
     "metadata": {},
     "output_type": "execute_result"
    },
    {
     "data": {
      "text/plain": "<Figure size 640x480 with 1 Axes>",
      "image/png": "[encoded data removed]"
     },
     "metadata": {},
     "output_type": "display_data"
    }
   ],
   "source": [
    "sns.distplot(y_pred, label='prediction')\n",
    "sns.distplot(y_train, label='actual')\n",
    "\n",
    "plt.legend()"
   ]
  },
  {
   "cell_type": "code",
   "execution_count": 10,
   "id": "f9e6479e",
   "metadata": {
    "ExecuteTime": {
     "end_time": "2024-05-19T18:07:34.475370250Z",
     "start_time": "2024-05-19T18:07:34.470059035Z"
    }
   },
   "outputs": [],
   "source": [
    "def read_dataframe(filename):\n",
    "    if filename.endswith('.csv'):\n",
    "        df = pd.read_csv(filename)\n",
    "\n",
    "        df.lpep_dropoff_datetime = pd.to_datetime(df.lpep_dropoff_datetime)\n",
    "        df.lpep_pickup_datetime = pd.to_datetime(df.lpep_pickup_datetime)\n",
    "    elif filename.endswith('.parquet'):\n",
    "        df = pd.read_parquet(filename)\n",
    "\n",
    "    df['duration'] = df.lpep_dropoff_datetime - df.lpep_pickup_datetime\n",
    "    df.duration = df.duration.apply(lambda td: td.total_seconds() / 60)\n",
    "\n",
    "    df = df[(df.duration >= 1) & (df.duration <= 60)]\n",
    "\n",
    "    categorical = ['PULocationID', 'DOLocationID']\n",
    "    df[categorical] = df[categorical].astype(str)\n",
    "    \n",
    "    return df"
   ]
  },
  {
   "cell_type": "code",
   "execution_count": 12,
   "id": "8029eba0",
   "metadata": {
    "ExecuteTime": {
     "end_time": "2024-05-19T18:08:50.006498231Z",
     "start_time": "2024-05-19T18:08:49.587688215Z"
    }
   },
   "outputs": [],
   "source": [
    "df_train = read_dataframe('./data/green_tripdata_2021-01.parquet')\n",
    "df_val = read_dataframe('./data/green_tripdata_2021-02.parquet')"
   ]
  },
  {
   "cell_type": "code",
   "execution_count": 13,
   "id": "f6f2f0eb",
   "metadata": {
    "ExecuteTime": {
     "end_time": "2024-05-19T18:08:50.955054826Z",
     "start_time": "2024-05-19T18:08:50.946903990Z"
    }
   },
   "outputs": [
    {
     "data": {
      "text/plain": "(73908, 61921)"
     },
     "execution_count": 13,
     "metadata": {},
     "output_type": "execute_result"
    }
   ],
   "source": [
    "len(df_train), len(df_val)"
   ]
  },
  {
   "cell_type": "code",
   "execution_count": 14,
   "id": "951d51ef",
   "metadata": {
    "ExecuteTime": {
     "end_time": "2024-05-19T18:08:51.684251965Z",
     "start_time": "2024-05-19T18:08:51.656550717Z"
    }
   },
   "outputs": [],
   "source": [
    "df_train['PU_DO'] = df_train['PULocationID'] + '_' + df_train['DOLocationID']\n",
    "df_val['PU_DO'] = df_val['PULocationID'] + '_' + df_val['DOLocationID']"
   ]
  },
  {
   "cell_type": "code",
   "execution_count": 15,
   "id": "c5cbfc25",
   "metadata": {
    "ExecuteTime": {
     "end_time": "2024-05-19T18:08:52.573675855Z",
     "start_time": "2024-05-19T18:08:52.320798281Z"
    }
   },
   "outputs": [],
   "source": [
    "categorical = ['PU_DO'] #'PULocationID', 'DOLocationID']\n",
    "numerical = ['trip_distance']\n",
    "\n",
    "dv = DictVectorizer()\n",
    "\n",
    "train_dicts = df_train[categorical + numerical].to_dict(orient='records')\n",
    "X_train = dv.fit_transform(train_dicts)\n",
    "\n",
    "val_dicts = df_val[categorical + numerical].to_dict(orient='records')\n",
    "X_val = dv.transform(val_dicts)"
   ]
  },
  {
   "cell_type": "code",
   "execution_count": 16,
   "id": "1e9fb68b",
   "metadata": {
    "ExecuteTime": {
     "end_time": "2024-05-19T18:08:53.066952235Z",
     "start_time": "2024-05-19T18:08:53.064183262Z"
    }
   },
   "outputs": [],
   "source": [
    "target = 'duration'\n",
    "y_train = df_train[target].values\n",
    "y_val = df_val[target].values"
   ]
  },
  {
   "cell_type": "code",
   "execution_count": 19,
   "id": "429e2394",
   "metadata": {
    "ExecuteTime": {
     "end_time": "2024-05-19T18:09:22.889059043Z",
     "start_time": "2024-05-19T18:09:22.860404885Z"
    }
   },
   "outputs": [
    {
     "data": {
      "text/plain": "7.758715207192863"
     },
     "execution_count": 19,
     "metadata": {},
     "output_type": "execute_result"
    }
   ],
   "source": [
    "lr = LinearRegression()\n",
    "lr.fit(X_train, y_train)\n",
    "\n",
    "y_pred = lr.predict(X_val)\n",
    "\n",
    "mean_squared_error(y_val, y_pred, squared=False)"
   ]
  },
  {
   "cell_type": "code",
   "execution_count": 20,
   "id": "22bf6f8b",
   "metadata": {
    "ExecuteTime": {
     "end_time": "2024-05-19T18:09:23.857210505Z",
     "start_time": "2024-05-19T18:09:23.850768475Z"
    }
   },
   "outputs": [],
   "source": [
    "with open('models/lin_reg.bin', 'wb') as f_out:\n",
    "    pickle.dump((dv, lr), f_out)"
   ]
  },
  {
   "cell_type": "code",
   "execution_count": 21,
   "id": "a4999b94",
   "metadata": {
    "ExecuteTime": {
     "end_time": "2024-05-19T18:09:38.897045704Z",
     "start_time": "2024-05-19T18:09:34.591456708Z"
    }
   },
   "outputs": [
    {
     "data": {
      "text/plain": "11.167275941179728"
     },
     "execution_count": 21,
     "metadata": {},
     "output_type": "execute_result"
    }
   ],
   "source": [
    "lr = Lasso(0.01)\n",
    "lr.fit(X_train, y_train)\n",
    "\n",
    "y_pred = lr.predict(X_val)\n",
    "\n",
    "mean_squared_error(y_val, y_pred, squared=False)"
   ]
  },
  {
   "cell_type": "code",
   "execution_count": null,
   "id": "47b0eb9b",
   "metadata": {},
   "outputs": [],
   "source": []
  }
 ],
 "metadata": {
  "kernelspec": {
   "display_name": "Python 3 (ipykernel)",
   "language": "python",
   "name": "python3"
  },
  "language_info": {
   "codemirror_mode": {
    "name": "ipython",
    "version": 3
   },
   "file_extension": ".py",
   "mimetype": "text/x-python",
   "name": "python",
   "nbconvert_exporter": "python",
   "pygments_lexer": "ipython3",
   "version": "3.11.7"
  }
 },
 "nbformat": 4,
 "nbformat_minor": 5
}
