{
 "cells": [
  {
   "cell_type": "code",
   "execution_count": 18,
   "id": "2c51efaa",
   "metadata": {
    "ExecuteTime": {
     "end_time": "2024-06-17T14:32:31.471970340Z",
     "start_time": "2024-06-17T14:32:30.654893730Z"
    }
   },
   "outputs": [
    {
     "name": "stdout",
     "output_type": "stream",
     "text": [
      "scikit-learn @ file:///croot/scikit-learn_1684954695550/work\r\n"
     ]
    }
   ],
   "source": [
    "!pip freeze | grep scikit-learn"
   ]
  },
  {
   "cell_type": "code",
   "execution_count": 19,
   "id": "4acf73a0-51b5-4663-9bb8-8eb947863e17",
   "metadata": {
    "ExecuteTime": {
     "end_time": "2024-06-17T14:32:32.798248990Z",
     "start_time": "2024-06-17T14:32:32.452949594Z"
    }
   },
   "outputs": [
    {
     "name": "stdout",
     "output_type": "stream",
     "text": [
      "Python 3.11.7\r\n"
     ]
    }
   ],
   "source": [
    "!python -V"
   ]
  },
  {
   "cell_type": "code",
   "execution_count": 20,
   "id": "0ef880a0",
   "metadata": {
    "ExecuteTime": {
     "end_time": "2024-06-17T14:32:32.803839387Z",
     "start_time": "2024-06-17T14:32:32.799683635Z"
    }
   },
   "outputs": [],
   "source": [
    "import pickle\n",
    "import os\n",
    "import numpy as np\n",
    "import pandas as pd"
   ]
  },
  {
   "cell_type": "code",
   "execution_count": 21,
   "id": "7836ccfd",
   "metadata": {
    "ExecuteTime": {
     "end_time": "2024-06-17T14:32:33.778244684Z",
     "start_time": "2024-06-17T14:32:33.774499302Z"
    }
   },
   "outputs": [
    {
     "name": "stderr",
     "output_type": "stream",
     "text": [
      "/home/ivan/anaconda3/lib/python3.11/site-packages/sklearn/base.py:318: UserWarning: Trying to unpickle estimator DictVectorizer from version 1.5.0 when using version 1.2.2. This might lead to breaking code or invalid results. Use at your own risk. For more info please refer to:\n",
      "https://scikit-learn.org/stable/model_persistence.html#security-maintainability-limitations\n",
      "  warnings.warn(\n",
      "/home/ivan/anaconda3/lib/python3.11/site-packages/sklearn/base.py:318: UserWarning: Trying to unpickle estimator LinearRegression from version 1.5.0 when using version 1.2.2. This might lead to breaking code or invalid results. Use at your own risk. For more info please refer to:\n",
      "https://scikit-learn.org/stable/model_persistence.html#security-maintainability-limitations\n",
      "  warnings.warn(\n"
     ]
    }
   ],
   "source": [
    "with open('model.bin', 'rb') as f_in:\n",
    "    dv, model = pickle.load(f_in)"
   ]
  },
  {
   "cell_type": "code",
   "execution_count": 22,
   "id": "41c08294",
   "metadata": {
    "ExecuteTime": {
     "end_time": "2024-06-17T14:32:33.831740194Z",
     "start_time": "2024-06-17T14:32:33.778287965Z"
    }
   },
   "outputs": [],
   "source": [
    "categorical = ['PULocationID', 'DOLocationID']\n",
    "\n",
    "def read_data(filename):\n",
    "    df = pd.read_parquet(filename)\n",
    "    \n",
    "    df['duration'] = df.tpep_dropoff_datetime - df.tpep_pickup_datetime\n",
    "    df['duration'] = df.duration.dt.total_seconds() / 60\n",
    "\n",
    "    df = df[(df.duration >= 1) & (df.duration <= 60)].copy()\n",
    "\n",
    "    df[categorical] = df[categorical].fillna(-1).astype('int').astype('str')\n",
    "    \n",
    "    return df"
   ]
  },
  {
   "cell_type": "code",
   "execution_count": 23,
   "id": "4854399a",
   "metadata": {
    "ExecuteTime": {
     "end_time": "2024-06-17T14:32:40.135816079Z",
     "start_time": "2024-06-17T14:32:34.732175438Z"
    }
   },
   "outputs": [],
   "source": [
    "df = read_data('https://d37ci6vzurychx.cloudfront.net/trip-data/yellow_tripdata_2023-03.parquet')"
   ]
  },
  {
   "cell_type": "code",
   "execution_count": 24,
   "id": "669fda0a",
   "metadata": {
    "ExecuteTime": {
     "end_time": "2024-06-17T14:32:48.176585894Z",
     "start_time": "2024-06-17T14:32:40.136970977Z"
    }
   },
   "outputs": [],
   "source": [
    "dicts = df[categorical].to_dict(orient='records')\n",
    "X_val = dv.transform(dicts)\n",
    "y_pred = model.predict(X_val)"
   ]
  },
  {
   "cell_type": "code",
   "execution_count": 25,
   "id": "bf532ae7-1897-428c-ba0c-875ccaf7d76c",
   "metadata": {
    "ExecuteTime": {
     "end_time": "2024-06-17T14:32:48.193677234Z",
     "start_time": "2024-06-17T14:32:48.177479034Z"
    }
   },
   "outputs": [
    {
     "name": "stdout",
     "output_type": "stream",
     "text": [
      "y_pred std: 6.247488852238703\n"
     ]
    }
   ],
   "source": [
    "std_y_pred = np.std(y_pred)\n",
    "print(\"y_pred std:\", std_y_pred)"
   ]
  },
  {
   "cell_type": "code",
   "outputs": [],
   "source": [
    "year = 2023\n",
    "month = 3  \n",
    "\n",
    "df['ride_id'] = f'{year:04d}/{month:02d}_' + df.index.astype('str')"
   ],
   "metadata": {
    "collapsed": false,
    "ExecuteTime": {
     "end_time": "2024-06-17T14:32:49.351787154Z",
     "start_time": "2024-06-17T14:32:48.190717897Z"
    }
   },
   "id": "683c521b80d324b8",
   "execution_count": 26
  },
  {
   "cell_type": "code",
   "outputs": [],
   "source": [
    "df_result = pd.DataFrame()\n",
    "df_result['ride_id']=df['ride_id']\n",
    "df_result['prediction_duration']= y_pred\n",
    "\n",
    "output_fp = \"output/yellow_tripdata_2023-03.parquet\"\n",
    "\n",
    "df_result.to_parquet(\n",
    "    output_fp,\n",
    "    engine='pyarrow',\n",
    "    compression=None,\n",
    "    index=False\n",
    ")"
   ],
   "metadata": {
    "collapsed": false,
    "ExecuteTime": {
     "end_time": "2024-06-17T14:32:49.849335846Z",
     "start_time": "2024-06-17T14:32:49.397302629Z"
    }
   },
   "id": "91b387176ddf8a59",
   "execution_count": 27
  },
  {
   "cell_type": "code",
   "outputs": [
    {
     "name": "stdout",
     "output_type": "stream",
     "text": [
      "file size: 68641903\n"
     ]
    }
   ],
   "source": [
    "print(\"file size:\", os.stat(output_fp).st_size)"
   ],
   "metadata": {
    "collapsed": false,
    "ExecuteTime": {
     "end_time": "2024-06-17T14:32:49.852394556Z",
     "start_time": "2024-06-17T14:32:49.849786176Z"
    }
   },
   "id": "2f21120735bf943b",
   "execution_count": 28
  }
 ],
 "metadata": {
  "kernelspec": {
   "display_name": "Python 3 (ipykernel)",
   "language": "python",
   "name": "python3"
  },
  "language_info": {
   "codemirror_mode": {
    "name": "ipython",
    "version": 3
   },
   "file_extension": ".py",
   "mimetype": "text/x-python",
   "name": "python",
   "nbconvert_exporter": "python",
   "pygments_lexer": "ipython3",
   "version": "3.10.13"
  }
 },
 "nbformat": 4,
 "nbformat_minor": 5
}
